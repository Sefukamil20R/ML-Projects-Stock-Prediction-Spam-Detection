{
 "cells": [
  {
   "cell_type": "code",
   "execution_count": 10,
   "id": "b9828abd-7210-4349-88d7-558cff511ae3",
   "metadata": {},
   "outputs": [],
   "source": [
    "import pandas as pd\n",
    "from sklearn.model_selection import train_test_split\n",
    "from sklearn.feature_extraction.text import TfidfVectorizer\n",
    "from sklearn.tree import DecisionTreeClassifier\n",
    "from sklearn.metrics import classification_report, confusion_matrix"
   ]
  },
  {
   "cell_type": "code",
   "execution_count": 11,
   "id": "a3d6a6cb-b1ab-4921-9ba6-954f79ea2893",
   "metadata": {},
   "outputs": [],
   "source": [
    "def  DecisionTreeEmailSpamDetection():\n",
    "    # Load the dataset\n",
    "    data = pd.read_csv('spam_ham_dataset.csv')\n",
    "    \n",
    "    # Use the 'text' column for features and 'label_num' for binary labels (spam=1, ham=0)\n",
    "    X = data['text']\n",
    "    y = data['label_num']\n",
    "    \n",
    "    # Split dataset into training and testing sets (80/20 split)\n",
    "    X_train, X_test, y_train, y_test = train_test_split(X, y, test_size=0.2, random_state=42)\n",
    "    \n",
    "    # Convert email text into TF-IDF features\n",
    "    vectorizer = TfidfVectorizer(stop_words='english')\n",
    "    X_train_vec = vectorizer.fit_transform(X_train)\n",
    "    X_test_vec = vectorizer.transform(X_test)\n",
    "    \n",
    "    # Initialize and train the Decision Tree Classifier\n",
    "    classifier = DecisionTreeClassifier(random_state=42)\n",
    "    classifier.fit(X_train_vec, y_train)\n",
    "    \n",
    "    # Predict on the test set\n",
    "    y_pred = classifier.predict(X_test_vec)\n",
    "    \n",
    "    # Output evaluation results\n",
    "    print(\"Decision Tree Classifier Results:\")\n",
    "    print(classification_report(y_test, y_pred))\n",
    "    print(\"Confusion Matrix:\")\n",
    "    print(confusion_matrix(y_test, y_pred))"
   ]
  },
  {
   "cell_type": "code",
   "execution_count": 12,
   "id": "a9286076-6e86-46a0-9442-32dbddaea140",
   "metadata": {},
   "outputs": [
    {
     "name": "stdout",
     "output_type": "stream",
     "text": [
      "Decision Tree Classifier Results:\n",
      "              precision    recall  f1-score   support\n",
      "\n",
      "           0       0.97      0.96      0.96       742\n",
      "           1       0.90      0.92      0.91       293\n",
      "\n",
      "    accuracy                           0.95      1035\n",
      "   macro avg       0.93      0.94      0.94      1035\n",
      "weighted avg       0.95      0.95      0.95      1035\n",
      "\n",
      "Confusion Matrix:\n",
      "[[711  31]\n",
      " [ 23 270]]\n"
     ]
    }
   ],
   "source": [
    "if __name__ == \"__main__\":\n",
    "    DecisionTreeEmailSpamDetection()"
   ]
  },
  {
   "cell_type": "code",
   "execution_count": 13,
   "id": "3848063e-3652-4103-8f8f-1915ef3601b2",
   "metadata": {},
   "outputs": [],
   "source": [
    "import pandas as pd\n",
    "from sklearn.model_selection import train_test_split\n",
    "from sklearn.feature_extraction.text import TfidfVectorizer\n",
    "from sklearn.ensemble import RandomForestClassifier\n",
    "from sklearn.metrics import classification_report, confusion_matrix"
   ]
  },
  {
   "cell_type": "code",
   "execution_count": 14,
   "id": "fe543df5-185c-450f-ac62-c4bba1b0ad6a",
   "metadata": {},
   "outputs": [],
   "source": [
    "def RandomForestEmailSpamDetection():\n",
    "    # Load the dataset\n",
    "    data = pd.read_csv('spam_ham_dataset.csv')\n",
    "    \n",
    "    # Use the 'text' column for features and 'label_num' for binary labels (spam=1, ham=0)\n",
    "    X = data['text']\n",
    "    y = data['label_num']\n",
    "    \n",
    "    # Split dataset into training and testing sets (80/20 split)\n",
    "    X_train, X_test, y_train, y_test = train_test_split(X, y, test_size=0.2, random_state=42)\n",
    "    \n",
    "    # Convert email text into TF-IDF features\n",
    "    vectorizer = TfidfVectorizer(stop_words='english')\n",
    "    X_train_vec = vectorizer.fit_transform(X_train)\n",
    "    X_test_vec = vectorizer.transform(X_test)\n",
    "    \n",
    "    # Initialize and train the Random Forest Classifier\n",
    "    classifier = RandomForestClassifier(n_estimators=100, random_state=42)\n",
    "    classifier.fit(X_train_vec, y_train)\n",
    "    \n",
    "    # Predict on the test set\n",
    "    y_pred = classifier.predict(X_test_vec)\n",
    "    \n",
    "    # Output evaluation results\n",
    "    print(\"Random Forest Classifier Results:\")\n",
    "    print(classification_report(y_test, y_pred))\n",
    "    print(\"Confusion Matrix:\")\n",
    "    print(confusion_matrix(y_test, y_pred))"
   ]
  },
  {
   "cell_type": "code",
   "execution_count": 15,
   "id": "cac8db07-56ce-450f-8e58-220801d802c2",
   "metadata": {},
   "outputs": [
    {
     "name": "stdout",
     "output_type": "stream",
     "text": [
      "Random Forest Classifier Results:\n",
      "              precision    recall  f1-score   support\n",
      "\n",
      "           0       0.99      0.98      0.99       742\n",
      "           1       0.95      0.98      0.97       293\n",
      "\n",
      "    accuracy                           0.98      1035\n",
      "   macro avg       0.97      0.98      0.98      1035\n",
      "weighted avg       0.98      0.98      0.98      1035\n",
      "\n",
      "Confusion Matrix:\n",
      "[[728  14]\n",
      " [  5 288]]\n"
     ]
    }
   ],
   "source": [
    "if __name__ == \"__main__\":\n",
    "    RandomForestEmailSpamDetection()"
   ]
  },
  {
   "cell_type": "code",
   "execution_count": 16,
   "id": "ffbd614e-e308-42af-812f-21af274bdfa1",
   "metadata": {},
   "outputs": [],
   "source": [
    "import pandas as pd\n",
    "from sklearn.model_selection import train_test_split\n",
    "from sklearn.feature_extraction.text import TfidfVectorizer\n",
    "from sklearn.linear_model import LogisticRegression\n",
    "from sklearn.metrics import classification_report, confusion_matrix\n"
   ]
  },
  {
   "cell_type": "code",
   "execution_count": 17,
   "id": "38bbf0f1-d778-4321-9a1f-9aa45f7cb339",
   "metadata": {},
   "outputs": [],
   "source": [
    "def LogisticRegressionEmailSpamDetection():\n",
    "    # Load the dataset\n",
    "    data = pd.read_csv('spam_ham_dataset.csv')\n",
    "    \n",
    "    # Use the 'text' column for features and 'label_num' for binary labels (spam=1, ham=0)\n",
    "    X = data['text']\n",
    "    y = data['label_num']\n",
    "    \n",
    "    # Split dataset into training and testing sets (80/20 split)\n",
    "    X_train, X_test, y_train, y_test = train_test_split(X, y, test_size=0.2, random_state=42)\n",
    "    \n",
    "    # Convert email text into TF-IDF features\n",
    "    vectorizer = TfidfVectorizer(stop_words='english')\n",
    "    X_train_vec = vectorizer.fit_transform(X_train)\n",
    "    X_test_vec = vectorizer.transform(X_test)\n",
    "    \n",
    "    # Initialize and train the Logistic Regression Classifier\n",
    "    classifier = LogisticRegression(max_iter=1000, random_state=42)\n",
    "    classifier.fit(X_train_vec, y_train)\n",
    "    \n",
    "    # Predict on the test set\n",
    "    y_pred = classifier.predict(X_test_vec)\n",
    "    \n",
    "    # Output evaluation results\n",
    "    print(\"Logistic Regression Classifier Results:\")\n",
    "    print(classification_report(y_test, y_pred))\n",
    "    print(\"Confusion Matrix:\")\n",
    "    print(confusion_matrix(y_test, y_pred))\n"
   ]
  },
  {
   "cell_type": "code",
   "execution_count": 18,
   "id": "5769ddcd-178f-4f71-b57f-bb5155487803",
   "metadata": {},
   "outputs": [
    {
     "name": "stdout",
     "output_type": "stream",
     "text": [
      "Logistic Regression Classifier Results:\n",
      "              precision    recall  f1-score   support\n",
      "\n",
      "           0       0.99      0.99      0.99       742\n",
      "           1       0.98      0.99      0.98       293\n",
      "\n",
      "    accuracy                           0.99      1035\n",
      "   macro avg       0.99      0.99      0.99      1035\n",
      "weighted avg       0.99      0.99      0.99      1035\n",
      "\n",
      "Confusion Matrix:\n",
      "[[735   7]\n",
      " [  4 289]]\n"
     ]
    }
   ],
   "source": [
    "\n",
    "if __name__ == \"__main__\":\n",
    "    LogisticRegressionEmailSpamDetection()\n"
   ]
  }
 ],
 "metadata": {
  "kernelspec": {
   "display_name": "Python 3 (ipykernel)",
   "language": "python",
   "name": "python3"
  },
  "language_info": {
   "codemirror_mode": {
    "name": "ipython",
    "version": 3
   },
   "file_extension": ".py",
   "mimetype": "text/x-python",
   "name": "python",
   "nbconvert_exporter": "python",
   "pygments_lexer": "ipython3",
   "version": "3.11.9"
  }
 },
 "nbformat": 4,
 "nbformat_minor": 5
}
